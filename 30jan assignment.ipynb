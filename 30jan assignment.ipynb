{
 "cells": [
  {
   "cell_type": "code",
   "execution_count": 3,
   "id": "fc1b2680-4725-42a6-a52f-2510a6480388",
   "metadata": {},
   "outputs": [
    {
     "name": "stdin",
     "output_type": "stream",
     "text": [
      "Enter the percentage that u have scored 90\n"
     ]
    },
    {
     "name": "stdout",
     "output_type": "stream",
     "text": [
      "Your Grade is B\n"
     ]
    }
   ],
   "source": [
    "#q1 PROGRAM TO ACCEPT PERCENTAGE FROM USER AND DISPLAY GRADES\n",
    "a=float(input(\"Enter the percentage that u have scored\"))\n",
    "if a>90:\n",
    "    print(\"Your Grade is A\")\n",
    "elif 80<a<=90:\n",
    "    print(\"Your Grade is B\")\n",
    "elif 60<=a<=80:\n",
    "    print(\"Your grade is C\")\n",
    "elif a<60:\n",
    "    print(\"Your Grade is D\")\n"
   ]
  },
  {
   "cell_type": "code",
   "execution_count": 4,
   "id": "f53ece6a-7ce6-4f23-ad7d-247594353149",
   "metadata": {},
   "outputs": [
    {
     "name": "stdin",
     "output_type": "stream",
     "text": [
      "Enter the cost price of your bike 150000\n"
     ]
    },
    {
     "name": "stdout",
     "output_type": "stream",
     "text": [
      "The road tax to be paid is Rs 22500.0\n"
     ]
    }
   ],
   "source": [
    "# program to calculate the road tax of bike\n",
    "c=float(input(\"Enter the cost price of your bike\"))\n",
    "if c>100000:\n",
    "    t=0.15*c\n",
    "elif 50000<c<=100000:\n",
    "    t=0.1*c\n",
    "elif c<=50000:\n",
    "    t=0.05*c\n",
    "print(f\"The road tax to be paid is Rs {t}\")\n"
   ]
  },
  {
   "cell_type": "code",
   "execution_count": 5,
   "id": "6afaf19d-9cef-4585-98ea-53a7cbb9f5ec",
   "metadata": {},
   "outputs": [
    {
     "name": "stdin",
     "output_type": "stream",
     "text": [
      "Enter any city u want delhi\n"
     ]
    },
    {
     "name": "stdout",
     "output_type": "stream",
     "text": [
      "Monument is RedFort\n"
     ]
    }
   ],
   "source": [
    "#q3 program to display monuments of city\n",
    "b=input(\"Enter any city u want\")\n",
    "if b.lower()==\"delhi\":\n",
    "    print(\"Monument is RedFort\")\n",
    "elif b.lower()==\"agra\":\n",
    "    print(\"Monument is Tajmahal\")\n",
    "elif b.lower()==\"jaipur\":\n",
    "    print(\"Monument is JalMahal\")\n",
    "else:\n",
    "    print(\"No Monument\")"
   ]
  },
  {
   "cell_type": "code",
   "execution_count": 6,
   "id": "71208cc0-90c3-435c-a06f-a42de55f1439",
   "metadata": {},
   "outputs": [
    {
     "name": "stdin",
     "output_type": "stream",
     "text": [
      "Enter any number 12\n"
     ]
    },
    {
     "name": "stdout",
     "output_type": "stream",
     "text": [
      "12.0 can be divided for 1 times before it is less than or equal to 10\n"
     ]
    }
   ],
   "source": [
    "#q4 program to find how many times the number can be divided by 3 befor it is less than or  equal to 3\n",
    "x=float(input(\"Enter any number\"))\n",
    "n=x\n",
    "i=0\n",
    "while n>10:\n",
    "    n=n/3\n",
    "    i=i+1\n",
    "print(f\"{x} can be divided for {i} times before it is less than or equal to 10\")\n"
   ]
  },
  {
   "cell_type": "markdown",
   "id": "55b14e81-6c48-4af4-9da4-e5a63dbab20f",
   "metadata": {},
   "source": [
    "\"\"\"The while loop is used to repeat a section of code an unknown number of times until a specific condition is met.\n",
    "For example, say we want to know how many times a given number can be divided by 2 before it is less\n",
    "than or equal to 1. \n",
    "If we know a specific number, such as 32, we can say 5 times, but for a given symbolic variable \"NUMBER\" \n",
    "which represents any number in the world, how many times is not known a priori (before hand). \n",
    "In this case, we could use a while loop to determine that answer:\n",
    "\n",
    "\"\"\""
   ]
  },
  {
   "cell_type": "code",
   "execution_count": 1,
   "id": "c414de20-6925-4f5d-8c4b-36e7e9cb8bc9",
   "metadata": {},
   "outputs": [
    {
     "name": "stdin",
     "output_type": "stream",
     "text": [
      "Enter a number 32\n"
     ]
    },
    {
     "name": "stdout",
     "output_type": "stream",
     "text": [
      "The number 32.0 can be divided for 5 times before it is less than or equal to 1\n"
     ]
    }
   ],
   "source": [
    "x=float(input(\"Enter a number\"))\n",
    "n=x\n",
    "i=0\n",
    "while n>1:  # our number when it gets divided should be greater than 1 then only we can divide further\n",
    "    n=n/2\n",
    "    i=i+1\n",
    "print(f\"The number {x} can be divided for {i} times before it is less than or equal to 1\")"
   ]
  },
  {
   "cell_type": "code",
   "execution_count": 9,
   "id": "35121ab1-c077-4534-9de8-def698eafc78",
   "metadata": {},
   "outputs": [
    {
     "name": "stdin",
     "output_type": "stream",
     "text": [
      "Enter the maximum no of stars u want 10\n"
     ]
    },
    {
     "name": "stdout",
     "output_type": "stream",
     "text": [
      "* * * * * * * * * * \n",
      " * * * * * * * * * \n",
      "  * * * * * * * * \n",
      "   * * * * * * * \n",
      "    * * * * * * \n",
      "     * * * * * \n",
      "      * * * * \n",
      "       * * * \n",
      "        * * \n",
      "         * \n"
     ]
    }
   ],
   "source": [
    "#PATTERN 1\n",
    "n=int(input(\"Enter the maximum no of stars u want\"))\n",
    "i=1\n",
    "if n<=5:\n",
    "    while i<=n:   #when n is less than or equal to 5 it will print a upward pyramid\n",
    "        print(f'{\" \"*(n-i)}{\"* \"*i}')\n",
    "        i=i+1\n",
    "elif n<=10:\n",
    "    while i<=n: #when n is less than or equal to 10 but greater than 5 it will print downward pyramid\n",
    "        print(f'{\" \"*(i-1)}{\"* \"*(n-i+1)}')\n",
    "        i=i+1\n",
    "else:\n",
    "    while i<=n: # when n>10 it will print a rhombus figure \n",
    "        print(f'{\" \"*(n-i)}{\"* \"*i}')\n",
    "        i=i+1\n",
    "    i=i-1\n",
    "    while i>=1:\n",
    "        print(f'{\" \"*(n-i)}{\"* \"*i}')\n",
    "        i=i-1\n",
    "        "
   ]
  },
  {
   "cell_type": "code",
   "execution_count": 2,
   "id": "adef5062-f7e4-4e6e-8c1b-ec215e845517",
   "metadata": {},
   "outputs": [
    {
     "name": "stdin",
     "output_type": "stream",
     "text": [
      "Enter the number 123456\n"
     ]
    },
    {
     "name": "stdout",
     "output_type": "stream",
     "text": [
      "654321\n"
     ]
    }
   ],
   "source": [
    "# reverse a  number by using while loop\n",
    "a= int(input(\"Enter the number\"))\n",
    "reverse=0\n",
    "while a>0:\n",
    "    reverse=reverse*10+a%10\n",
    "    a=a//10\n",
    "print(reverse)\n",
    "\n"
   ]
  },
  {
   "cell_type": "code",
   "execution_count": null,
   "id": "58904f4a-5fa6-4370-8dbe-116191dc2bdd",
   "metadata": {},
   "outputs": [],
   "source": []
  },
  {
   "cell_type": "code",
   "execution_count": null,
   "id": "c953088f-756b-4985-a4af-952b647bdced",
   "metadata": {},
   "outputs": [],
   "source": []
  },
  {
   "cell_type": "code",
   "execution_count": null,
   "id": "a2af7aa3-614f-42dc-8119-e3ab1b62fab8",
   "metadata": {},
   "outputs": [],
   "source": []
  },
  {
   "cell_type": "code",
   "execution_count": null,
   "id": "3f97c2b3-dd5d-4b24-9c2d-702a8ae32eba",
   "metadata": {},
   "outputs": [],
   "source": []
  },
  {
   "cell_type": "code",
   "execution_count": null,
   "id": "3a1fe3f6-9668-4239-a67c-094d3b188bb3",
   "metadata": {},
   "outputs": [],
   "source": []
  },
  {
   "cell_type": "code",
   "execution_count": null,
   "id": "a8f475e3-2d78-4933-bfe6-18906bd439c9",
   "metadata": {},
   "outputs": [],
   "source": []
  },
  {
   "cell_type": "code",
   "execution_count": null,
   "id": "3e05f655-c338-4bd3-b273-927a89ca9490",
   "metadata": {},
   "outputs": [],
   "source": []
  },
  {
   "cell_type": "code",
   "execution_count": null,
   "id": "f832730a-1989-4bf7-8b08-edfa4b20c5e8",
   "metadata": {},
   "outputs": [],
   "source": []
  },
  {
   "cell_type": "code",
   "execution_count": null,
   "id": "dd9d913d-080e-48fb-b53c-d3e4845cec37",
   "metadata": {},
   "outputs": [],
   "source": []
  },
  {
   "cell_type": "code",
   "execution_count": null,
   "id": "ebaf99b0-9c0c-4b88-831b-caa1f16ca042",
   "metadata": {},
   "outputs": [],
   "source": []
  },
  {
   "cell_type": "code",
   "execution_count": null,
   "id": "97f0bbc8-9a05-4ba6-ba7a-24aab7a3fa37",
   "metadata": {},
   "outputs": [],
   "source": []
  },
  {
   "cell_type": "code",
   "execution_count": null,
   "id": "df58d201-9b4d-4142-957a-52ffac0c0d53",
   "metadata": {},
   "outputs": [],
   "source": []
  },
  {
   "cell_type": "code",
   "execution_count": null,
   "id": "51b350d5-a4ef-4b10-9030-65708a9d7bed",
   "metadata": {},
   "outputs": [],
   "source": []
  },
  {
   "cell_type": "code",
   "execution_count": null,
   "id": "2969fdc8-ad2a-410e-b14f-c0d019aae480",
   "metadata": {},
   "outputs": [],
   "source": []
  },
  {
   "cell_type": "code",
   "execution_count": null,
   "id": "fa3d2cef-b526-4353-bf9c-673d50f073de",
   "metadata": {},
   "outputs": [],
   "source": []
  },
  {
   "cell_type": "code",
   "execution_count": null,
   "id": "cf59894b-4daa-46b3-989a-467fde569ec1",
   "metadata": {},
   "outputs": [],
   "source": []
  }
 ],
 "metadata": {
  "kernelspec": {
   "display_name": "Python 3 (ipykernel)",
   "language": "python",
   "name": "python3"
  },
  "language_info": {
   "codemirror_mode": {
    "name": "ipython",
    "version": 3
   },
   "file_extension": ".py",
   "mimetype": "text/x-python",
   "name": "python",
   "nbconvert_exporter": "python",
   "pygments_lexer": "ipython3",
   "version": "3.10.8"
  }
 },
 "nbformat": 4,
 "nbformat_minor": 5
}
